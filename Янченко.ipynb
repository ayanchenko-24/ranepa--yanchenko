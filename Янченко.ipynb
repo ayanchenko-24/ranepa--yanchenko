{
  "nbformat": 4,
  "nbformat_minor": 0,
  "metadata": {
    "colab": {
      "provenance": [],
      "authorship_tag": "ABX9TyP5kH8hdBtKfOCcEyLO3142",
      "include_colab_link": true
    },
    "kernelspec": {
      "name": "python3",
      "display_name": "Python 3"
    },
    "language_info": {
      "name": "python"
    }
  },
  "cells": [
    {
      "cell_type": "markdown",
      "metadata": {
        "id": "view-in-github",
        "colab_type": "text"
      },
      "source": [
        "<a href=\"https://colab.research.google.com/github/ayanchenko-24/ranepa--yanchenko/blob/main/%D0%AF%D0%BD%D1%87%D0%B5%D0%BD%D0%BA%D0%BE.ipynb\" target=\"_parent\"><img src=\"https://colab.research.google.com/assets/colab-badge.svg\" alt=\"Open In Colab\"/></a>"
      ]
    },
    {
      "cell_type": "code",
      "execution_count": 26,
      "metadata": {
        "id": "nbkXPHUi_HXg"
      },
      "outputs": [],
      "source": [
        "\n",
        "import hmac\n",
        "import hashlib\n",
        "\n",
        "def calculate_hmac_hash(input_data, secret_key):\n",
        "    return hmac.new(secret_key.encode(), input_data.encode(), hashlib.sha256).hexdigest()\n",
        "\n",
        "\n"
      ]
    },
    {
      "cell_type": "code",
      "source": [
        "input_data = \"Hello!\"\n",
        "secret_key = \"your_secret_key\"\n",
        "hash_value = calculate_hmac_hash(input_data, secret_key)\n",
        "print(f\"HMAC Hash of '{input_data}' is: {hash_value}\")\n"
      ],
      "metadata": {
        "colab": {
          "base_uri": "https://localhost:8080/"
        },
        "id": "rbSCoYEFFuHE",
        "outputId": "01d3e00b-1cca-4f78-a38a-f842262929b9"
      },
      "execution_count": 27,
      "outputs": [
        {
          "output_type": "stream",
          "name": "stdout",
          "text": [
            "HMAC Hash of 'Hello!' is: abd226594c7f3383080512d086cd49379a6ce0f30c1172dc13bf6ccd377784f5\n"
          ]
        }
      ]
    },
    {
      "cell_type": "code",
      "source": [
        "class MyDictWithStdHash:\n",
        "    def __init__(self):\n",
        "        self.__values = []\n",
        "        self.__keys = []\n",
        "        self.__hashed_keys = []\n",
        "\n",
        "    def my_hash(self, key, secret_key=\"default_secret\"):\n",
        "        return int(hmac.new(secret_key.encode(), str(key).encode('utf-8'), hashlib.sha256).hexdigest(), 16)\n",
        "\n",
        "    def __getitem__(self, key):\n",
        "        hashed_key = self.my_hash(key)\n",
        "        try:\n",
        "            index = self.__hashed_keys.index(hashed_key)\n",
        "            return self.__values[index]\n",
        "        except ValueError:\n",
        "            raise KeyError(f\"Key '{key}' not found\")\n",
        "\n",
        "    def __setitem__(self, key, value):\n",
        "        hashed_key = self.my_hash(key)\n",
        "        if hashed_key in self.__hashed_keys:\n",
        "            index = self.__hashed_keys.index(hashed_key)\n",
        "            self.__values[index] = value\n",
        "        else:\n",
        "            self.__keys.append(key)\n",
        "            self.__values.append(value)\n",
        "            self.__hashed_keys.append(hashed_key)\n",
        "\n",
        "    def keys(self):\n",
        "        return self.__keys\n",
        "\n",
        "    def values(self):\n",
        "        return self.__values\n",
        "\n",
        "    def items(self):\n",
        "        return list(zip(self.__keys, self.__values))\n",
        "\n",
        "    def __len__(self):\n",
        "        return len(self.__values)\n",
        "\n",
        "    def __repr__(self):\n",
        "        s = \"{\"\n",
        "        for i, my_key in enumerate(self.__keys):\n",
        "            s += f\"{my_key}: {self.__values[i]}, \"\n",
        "        s = s.rstrip(', ') + \"}\"\n",
        "        return s"
      ],
      "metadata": {
        "id": "H-KSM8HWFv98"
      },
      "execution_count": 47,
      "outputs": []
    },
    {
      "cell_type": "code",
      "source": [
        "my_owndict = MyDictWithStdHash()"
      ],
      "metadata": {
        "id": "QJYq1yLkF6Sl"
      },
      "execution_count": 48,
      "outputs": []
    },
    {
      "cell_type": "code",
      "source": [
        "my_owndict[\"key1\"] = \"apple\"\n",
        "my_owndict[\"key2\"] = \"banana\"\n",
        "print(my_owndict[\"key1\"])\n",
        "print(len(my_owndict))\n",
        "print(my_owndict)"
      ],
      "metadata": {
        "colab": {
          "base_uri": "https://localhost:8080/"
        },
        "id": "tfxM5uSdGAtA",
        "outputId": "3eceebb2-cc61-4566-8139-52f5a74d05c5"
      },
      "execution_count": 49,
      "outputs": [
        {
          "output_type": "stream",
          "name": "stdout",
          "text": [
            "apple\n",
            "2\n",
            "{key1: apple, key2: banana}\n"
          ]
        }
      ]
    },
    {
      "cell_type": "code",
      "source": [
        "len(my_owndict)"
      ],
      "metadata": {
        "colab": {
          "base_uri": "https://localhost:8080/"
        },
        "id": "kfJLcxxBGz9z",
        "outputId": "4ec298bc-e3e2-4898-e217-0bc307b27859"
      },
      "execution_count": 50,
      "outputs": [
        {
          "output_type": "execute_result",
          "data": {
            "text/plain": [
              "2"
            ]
          },
          "metadata": {},
          "execution_count": 50
        }
      ]
    },
    {
      "cell_type": "code",
      "source": [
        "my_owndict[5]=15"
      ],
      "metadata": {
        "id": "r8V5pNSlHASw"
      },
      "execution_count": 51,
      "outputs": []
    },
    {
      "cell_type": "code",
      "source": [
        "my_owndict"
      ],
      "metadata": {
        "colab": {
          "base_uri": "https://localhost:8080/"
        },
        "id": "uso4u-vnHQKy",
        "outputId": "98e33f75-4880-4aa5-cfff-22a3d10a9599"
      },
      "execution_count": 36,
      "outputs": [
        {
          "output_type": "execute_result",
          "data": {
            "text/plain": [
              "{key1: apple, key2: banana, 5: 15}"
            ]
          },
          "metadata": {},
          "execution_count": 36
        }
      ]
    },
    {
      "cell_type": "code",
      "source": [
        "my_owndict[\"Hello!\"] = \"How are you?\""
      ],
      "metadata": {
        "id": "TPwk5MAmHYvg"
      },
      "execution_count": 41,
      "outputs": []
    },
    {
      "cell_type": "code",
      "source": [
        "my_owndict"
      ],
      "metadata": {
        "colab": {
          "base_uri": "https://localhost:8080/"
        },
        "id": "5_f3DnJWHs0S",
        "outputId": "14699f35-caf5-4f78-bdb4-accb9b747eca"
      },
      "execution_count": 42,
      "outputs": [
        {
          "output_type": "execute_result",
          "data": {
            "text/plain": [
              "{key1: apple, key2: banana, 5: 15, Hello!: How are you?}"
            ]
          },
          "metadata": {},
          "execution_count": 42
        }
      ]
    },
    {
      "cell_type": "code",
      "source": [
        "my_owndict = MyDictWithStdHash()\n",
        "my_owndict['Fruit'] = 5\n",
        "my_owndict['berry'] = 23"
      ],
      "metadata": {
        "id": "NrvQ5_b3H3yF"
      },
      "execution_count": 43,
      "outputs": []
    },
    {
      "cell_type": "code",
      "source": [
        "print(\"Keys:\", my_owndict.keys())\n",
        "print(\"Values:\", my_owndict.values())\n",
        "print(\"Items:\", my_owndict.items())\n",
        "print(\"Length:\", len(my_owndict))\n"
      ],
      "metadata": {
        "colab": {
          "base_uri": "https://localhost:8080/"
        },
        "id": "JLj9On_fIeWS",
        "outputId": "a69f875d-c53e-488b-fe76-44a0d25cf0ec"
      },
      "execution_count": 46,
      "outputs": [
        {
          "output_type": "stream",
          "name": "stdout",
          "text": [
            "Keys: ['Fruit', 'berry']\n",
            "Values: [5, 23]\n",
            "Items: [('Fruit', 5), ('berry', 23)]\n",
            "Length: 2\n"
          ]
        }
      ]
    }
  ]
}